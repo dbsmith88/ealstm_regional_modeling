{
 "cells": [
  {
   "cell_type": "markdown",
   "metadata": {},
   "source": [
    "# Performance evaluation and benchmarking\n",
    "\n",
    "In this notebook we will go step-by-step through the model evaluation part of our paper, as well as through the benchmarking part, where we compare our simulation results with a good hand-full of different (well-established) hydrological models.\n",
    "\n",
    "For more information read the experiment description in our paper:\n",
    "\n",
    "**TODO**: Include Ref\n",
    "\n",
    "Note:\n",
    "If you want to run this notebook locally and reproduce the figures of our paper\n",
    "- make sure you have our pre-trained models. See the [README.md](link) in the repository for further instructions.\n",
    "\n",
    "- make sure to have the CAMELS benchmark data set. See the [README.md](link) in the repository for further instructions.\n",
    "\n",
    "#### Adapt the lines below according to your local system"
   ]
  },
  {
   "cell_type": "code",
   "execution_count": 15,
   "metadata": {},
   "outputs": [],
   "source": [
    "# Needed if no precomputed results are used. Main directory containing all runs\n",
    "BASE_RUN_DIR = \"D:\\\\git\\\\ealstm_regional_modeling\\\\runs\\\\r2\"\n",
    "\n",
    "# Path to the benchmark model folders containing the basin netCDF files\n",
    "DB_PATH = \"D:\\\\git\\\\hydro-data\\\\catchment-data.sqlite3\"\n",
    "\n",
    "# Path to the main directory of this repository\n",
    "BASE_CODE_DIR = \"D:\\\\git\\ealstm_regional_modeling\""
   ]
  },
  {
   "cell_type": "code",
   "execution_count": 16,
   "metadata": {},
   "outputs": [],
   "source": [
    "# Imports\n",
    "import pickle\n",
    "import sys\n",
    "from collections import defaultdict\n",
    "from pathlib import Path\n",
    "\n",
    "import matplotlib.pyplot as plt\n",
    "import pandas as pd\n",
    "import tqdm\n",
    "from scipy.stats import wilcoxon\n",
    "\n",
    "# Add repository to Python path\n",
    "sys.path.append(BASE_CODE_DIR)\n",
    "from app.plotutils import model_draw_style, model_specs, ecdf\n",
    "from app.evalutils import (get_run_dirs, eval_lstm_models,\n",
    "                                 eval_benchmark_models, get_pvals, \n",
    "                                 get_mean_basin_performance, get_cohens_d)\n",
    "from app.metrics import *"
   ]
  },
  {
   "cell_type": "markdown",
   "metadata": {},
   "source": [
    "Definition of global variables. \n",
    "\n",
    "**Note**: If you want to recompute all model metrics, change the `PRECOMPUTED_DATA` flag to `False`. No GPU is required. If you want to use the pre-calculated metrics, make sure the flag is set to `True`"
   ]
  },
  {
   "cell_type": "code",
   "execution_count": 17,
   "metadata": {},
   "outputs": [],
   "source": [
    "# If True load pre-computed metrics from pickle file, else re-calculate everything\n",
    "PRECOMPUTED_DATA = False\n",
    "\n",
    "# Convert to PosixPaths\n",
    "BASE_RUN_DIR = Path(BASE_RUN_DIR)\n",
    "DB_PATH = Path(DB_PATH)\n",
    "\n",
    "# Set of evaluation functions\n",
    "EVAL_FUNCS = {'NSE': calc_nse, \n",
    "              'alpha_nse': calc_alpha_nse, \n",
    "              'beta_nse': calc_beta_nse,\n",
    "              'FHV': calc_fdc_fhv, \n",
    "              'FLV': calc_fdc_flv, \n",
    "              'FMS': calc_fdc_fms}"
   ]
  },
  {
   "cell_type": "markdown",
   "metadata": {},
   "source": [
    "# Evaluate LSTM-based models\n",
    "\n",
    "First, we compare the 6 different settings of LSTM-based models, that we trained for this paper. These are three different model settings:\n",
    "\n",
    "1. EA-LSTM: Our proposed adaption of the LSTM recurrent neural network, where the static catchment characteristics are used to modulate the input gate.\n",
    "2. LSTM: The standard LSTM architecture, where the static catchment characteristics are concatenated to the meterological inputs at each time step.\n",
    "3. LSTM (no static inputs): A standard LSTM that is only trained using the meteorological forcing data.\n",
    "\n",
    "All three model configurations were trained using two different loss functions:\n",
    "\n",
    "1. MSELoss: The standard mean squared error loss.\n",
    "2. NSELoss: Our proposed loss function, which approximates the basin averaged NSE. For more details see the Method section of our manuscript.\n",
    "\n",
    "For each of the 6 settings, we trained 8 models (using different random initializations) and furthermore combined these 8 models to an ensemble (by averaging the k=8 model simulations)"
   ]
  },
  {
   "cell_type": "code",
   "execution_count": 18,
   "metadata": {},
   "outputs": [
    {
     "name": "stderr",
     "output_type": "stream",
     "text": [
      "\r",
      "  0%|                                                                                            | 0/1 [00:00<?, ?it/s]"
     ]
    },
    {
     "name": "stdout",
     "output_type": "stream",
     "text": [
      "Calculating metric: NSE\n"
     ]
    },
    {
     "name": "stderr",
     "output_type": "stream",
     "text": [
      "100%|████████████████████████████████████████████████████████████████████████████████████| 1/1 [00:00<00:00,  5.00it/s]\n",
      "100%|████████████████████████████████████████████████████████████████████████████████████| 1/1 [00:00<00:00,  5.10it/s]\n",
      "100%|████████████████████████████████████████████████████████████████████████████████████| 1/1 [00:00<00:00,  5.13it/s]\n",
      "100%|████████████████████████████████████████████████████████████████████████████████████| 1/1 [00:00<00:00,  4.09it/s]\n",
      "100%|████████████████████████████████████████████████████████████████████████████████████| 1/1 [00:00<00:00,  5.09it/s]\n",
      "100%|████████████████████████████████████████████████████████████████████████████████████| 1/1 [00:00<00:00,  5.07it/s]\n",
      "100%|████████████████████████████████████████████████████████████████████████████████████| 1/1 [00:00<00:00,  5.13it/s]"
     ]
    },
    {
     "name": "stdout",
     "output_type": "stream",
     "text": [
      "Calculating metric: alpha_nse\n"
     ]
    },
    {
     "name": "stderr",
     "output_type": "stream",
     "text": [
      "100%|████████████████████████████████████████████████████████████████████████████████████| 1/1 [00:00<00:00,  5.10it/s]\n",
      "100%|████████████████████████████████████████████████████████████████████████████████████| 1/1 [00:00<00:00,  5.10it/s]\n",
      "100%|████████████████████████████████████████████████████████████████████████████████████| 1/1 [00:00<00:00,  5.09it/s]\n",
      "100%|████████████████████████████████████████████████████████████████████████████████████| 1/1 [00:00<00:00,  4.14it/s]\n",
      "100%|████████████████████████████████████████████████████████████████████████████████████| 1/1 [00:00<00:00,  5.08it/s]\n",
      "100%|████████████████████████████████████████████████████████████████████████████████████| 1/1 [00:00<00:00,  5.05it/s]\n",
      "100%|████████████████████████████████████████████████████████████████████████████████████| 1/1 [00:00<00:00,  5.18it/s]"
     ]
    },
    {
     "name": "stdout",
     "output_type": "stream",
     "text": [
      "Calculating metric: beta_nse\n"
     ]
    },
    {
     "name": "stderr",
     "output_type": "stream",
     "text": [
      "100%|████████████████████████████████████████████████████████████████████████████████████| 1/1 [00:00<00:00,  5.15it/s]\n",
      "100%|████████████████████████████████████████████████████████████████████████████████████| 1/1 [00:00<00:00,  5.17it/s]\n",
      "100%|████████████████████████████████████████████████████████████████████████████████████| 1/1 [00:00<00:00,  5.14it/s]\n",
      "100%|████████████████████████████████████████████████████████████████████████████████████| 1/1 [00:00<00:00,  5.11it/s]\n",
      "100%|████████████████████████████████████████████████████████████████████████████████████| 1/1 [00:00<00:00,  4.26it/s]\n",
      "100%|████████████████████████████████████████████████████████████████████████████████████| 1/1 [00:00<00:00,  5.11it/s]\n",
      "  0%|                                                                                            | 0/1 [00:00<?, ?it/s]"
     ]
    },
    {
     "name": "stdout",
     "output_type": "stream",
     "text": [
      "Calculating metric: FHV\n"
     ]
    },
    {
     "name": "stderr",
     "output_type": "stream",
     "text": [
      "100%|████████████████████████████████████████████████████████████████████████████████████| 1/1 [00:00<00:00,  3.58it/s]\n",
      "100%|████████████████████████████████████████████████████████████████████████████████████| 1/1 [00:00<00:00,  3.59it/s]\n",
      "100%|████████████████████████████████████████████████████████████████████████████████████| 1/1 [00:00<00:00,  3.60it/s]\n",
      "100%|████████████████████████████████████████████████████████████████████████████████████| 1/1 [00:00<00:00,  3.60it/s]\n",
      "100%|████████████████████████████████████████████████████████████████████████████████████| 1/1 [00:00<00:00,  3.57it/s]\n",
      "100%|████████████████████████████████████████████████████████████████████████████████████| 1/1 [00:00<00:00,  3.07it/s]\n",
      "  0%|                                                                                            | 0/1 [00:00<?, ?it/s]"
     ]
    },
    {
     "name": "stdout",
     "output_type": "stream",
     "text": [
      "Calculating metric: FLV\n"
     ]
    },
    {
     "name": "stderr",
     "output_type": "stream",
     "text": [
      "100%|████████████████████████████████████████████████████████████████████████████████████| 1/1 [00:00<00:00,  3.38it/s]\n",
      "100%|████████████████████████████████████████████████████████████████████████████████████| 1/1 [00:00<00:00,  3.39it/s]\n",
      "100%|████████████████████████████████████████████████████████████████████████████████████| 1/1 [00:00<00:00,  3.41it/s]\n",
      "100%|████████████████████████████████████████████████████████████████████████████████████| 1/1 [00:00<00:00,  3.41it/s]\n",
      "100%|████████████████████████████████████████████████████████████████████████████████████| 1/1 [00:00<00:00,  3.37it/s]\n",
      "100%|████████████████████████████████████████████████████████████████████████████████████| 1/1 [00:00<00:00,  3.40it/s]\n",
      "  0%|                                                                                            | 0/1 [00:00<?, ?it/s]"
     ]
    },
    {
     "name": "stdout",
     "output_type": "stream",
     "text": [
      "Calculating metric: FMS\n"
     ]
    },
    {
     "name": "stderr",
     "output_type": "stream",
     "text": [
      "100%|████████████████████████████████████████████████████████████████████████████████████| 1/1 [00:00<00:00,  3.05it/s]\n",
      "100%|████████████████████████████████████████████████████████████████████████████████████| 1/1 [00:00<00:00,  3.51it/s]\n",
      "100%|████████████████████████████████████████████████████████████████████████████████████| 1/1 [00:00<00:00,  3.50it/s]\n",
      "100%|████████████████████████████████████████████████████████████████████████████████████| 1/1 [00:00<00:00,  3.49it/s]\n",
      "100%|████████████████████████████████████████████████████████████████████████████████████| 1/1 [00:00<00:00,  3.42it/s]\n",
      "100%|████████████████████████████████████████████████████████████████████████████████████| 1/1 [00:00<00:00,  3.49it/s]\n"
     ]
    }
   ],
   "source": [
    "if PRECOMPUTED_DATA:\n",
    "    print(\"Loaded data from pre-computed pickle file\")\n",
    "    with open(\"all_metrics.p\", \"rb\") as fp:\n",
    "        all_metrics = pickle.load(fp)\n",
    "else:\n",
    "    all_metrics = {}\n",
    "    for func_name, func in EVAL_FUNCS.items():\n",
    "        tqdm.tqdm.write(f\"Calculating metric: {func_name}\")\n",
    "        model_metrics = {}\n",
    "        for model, specs in model_specs.items():\n",
    "            run_dirs = get_run_dirs(root_dir=BASE_RUN_DIR, model=specs[\"model\"], loss=specs[\"loss\"])\n",
    "            model_metrics[model] = eval_lstm_models(run_dirs=run_dirs, func=func)\n",
    "\n",
    "        all_metrics[func_name] = model_metrics"
   ]
  },
  {
   "cell_type": "markdown",
   "metadata": {},
   "source": [
    "## Tabular comparison\n",
    "\n",
    "In a first step, we look at the mean, median NSE as well as the number of catastrophic failures. Catastrophic failures are defined as the number of basins, where the model has a NSE <= 0.\n",
    "We calculate the mean of each of this three statistics over the model (n=8) model repetitions and report the standard deviation here as well. The repetitions are denoted as `ensemble=False` in the table below."
   ]
  },
  {
   "cell_type": "code",
   "execution_count": 19,
   "metadata": {},
   "outputs": [
    {
     "data": {
      "text/html": [
       "<div>\n",
       "<style scoped>\n",
       "    .dataframe tbody tr th:only-of-type {\n",
       "        vertical-align: middle;\n",
       "    }\n",
       "\n",
       "    .dataframe tbody tr th {\n",
       "        vertical-align: top;\n",
       "    }\n",
       "\n",
       "    .dataframe thead th {\n",
       "        text-align: right;\n",
       "    }\n",
       "</style>\n",
       "<table border=\"1\" class=\"dataframe\">\n",
       "  <thead>\n",
       "    <tr style=\"text-align: right;\">\n",
       "      <th></th>\n",
       "      <th></th>\n",
       "      <th>mean</th>\n",
       "      <th>std_mean</th>\n",
       "      <th>median</th>\n",
       "      <th>std_median</th>\n",
       "      <th>failures</th>\n",
       "      <th>std_failures</th>\n",
       "    </tr>\n",
       "    <tr>\n",
       "      <th>model_type</th>\n",
       "      <th>ensemble</th>\n",
       "      <th></th>\n",
       "      <th></th>\n",
       "      <th></th>\n",
       "      <th></th>\n",
       "      <th></th>\n",
       "      <th></th>\n",
       "    </tr>\n",
       "  </thead>\n",
       "  <tbody>\n",
       "    <tr>\n",
       "      <th rowspan=\"2\" valign=\"top\">EA-LSTM MSE</th>\n",
       "      <th>False</th>\n",
       "      <td>-10.733926</td>\n",
       "      <td>0.0</td>\n",
       "      <td>0.452182</td>\n",
       "      <td>0.0</td>\n",
       "      <td>47.0</td>\n",
       "      <td>0.0</td>\n",
       "    </tr>\n",
       "    <tr>\n",
       "      <th>True</th>\n",
       "      <td>-10.733926</td>\n",
       "      <td>NaN</td>\n",
       "      <td>0.452182</td>\n",
       "      <td>NaN</td>\n",
       "      <td>47.0</td>\n",
       "      <td>NaN</td>\n",
       "    </tr>\n",
       "    <tr>\n",
       "      <th rowspan=\"2\" valign=\"top\">EA-LSTM NSE</th>\n",
       "      <th>False</th>\n",
       "      <td>0.600949</td>\n",
       "      <td>0.0</td>\n",
       "      <td>0.650381</td>\n",
       "      <td>0.0</td>\n",
       "      <td>6.0</td>\n",
       "      <td>0.0</td>\n",
       "    </tr>\n",
       "    <tr>\n",
       "      <th>True</th>\n",
       "      <td>0.600949</td>\n",
       "      <td>NaN</td>\n",
       "      <td>0.650381</td>\n",
       "      <td>NaN</td>\n",
       "      <td>6.0</td>\n",
       "      <td>NaN</td>\n",
       "    </tr>\n",
       "    <tr>\n",
       "      <th rowspan=\"2\" valign=\"top\">LSTM MSE</th>\n",
       "      <th>False</th>\n",
       "      <td>-4.119752</td>\n",
       "      <td>0.0</td>\n",
       "      <td>0.549334</td>\n",
       "      <td>0.0</td>\n",
       "      <td>36.0</td>\n",
       "      <td>0.0</td>\n",
       "    </tr>\n",
       "    <tr>\n",
       "      <th>True</th>\n",
       "      <td>-4.119752</td>\n",
       "      <td>NaN</td>\n",
       "      <td>0.549334</td>\n",
       "      <td>NaN</td>\n",
       "      <td>36.0</td>\n",
       "      <td>NaN</td>\n",
       "    </tr>\n",
       "    <tr>\n",
       "      <th rowspan=\"2\" valign=\"top\">LSTM NSE</th>\n",
       "      <th>False</th>\n",
       "      <td>0.645367</td>\n",
       "      <td>0.0</td>\n",
       "      <td>0.681873</td>\n",
       "      <td>0.0</td>\n",
       "      <td>2.0</td>\n",
       "      <td>0.0</td>\n",
       "    </tr>\n",
       "    <tr>\n",
       "      <th>True</th>\n",
       "      <td>0.645367</td>\n",
       "      <td>NaN</td>\n",
       "      <td>0.681873</td>\n",
       "      <td>NaN</td>\n",
       "      <td>2.0</td>\n",
       "      <td>NaN</td>\n",
       "    </tr>\n",
       "    <tr>\n",
       "      <th rowspan=\"2\" valign=\"top\">LSTM (no static inputs) MSE</th>\n",
       "      <th>False</th>\n",
       "      <td>-9678.776195</td>\n",
       "      <td>0.0</td>\n",
       "      <td>-11.425381</td>\n",
       "      <td>0.0</td>\n",
       "      <td>153.0</td>\n",
       "      <td>0.0</td>\n",
       "    </tr>\n",
       "    <tr>\n",
       "      <th>True</th>\n",
       "      <td>-9678.776195</td>\n",
       "      <td>NaN</td>\n",
       "      <td>-11.425381</td>\n",
       "      <td>NaN</td>\n",
       "      <td>153.0</td>\n",
       "      <td>NaN</td>\n",
       "    </tr>\n",
       "    <tr>\n",
       "      <th rowspan=\"2\" valign=\"top\">LSTM (no static inputs) NSE</th>\n",
       "      <th>False</th>\n",
       "      <td>-1.650329</td>\n",
       "      <td>0.0</td>\n",
       "      <td>-0.207211</td>\n",
       "      <td>0.0</td>\n",
       "      <td>141.0</td>\n",
       "      <td>0.0</td>\n",
       "    </tr>\n",
       "    <tr>\n",
       "      <th>True</th>\n",
       "      <td>-1.650329</td>\n",
       "      <td>NaN</td>\n",
       "      <td>-0.207211</td>\n",
       "      <td>NaN</td>\n",
       "      <td>141.0</td>\n",
       "      <td>NaN</td>\n",
       "    </tr>\n",
       "  </tbody>\n",
       "</table>\n",
       "</div>"
      ],
      "text/plain": [
       "                                             mean  std_mean     median  \\\n",
       "model_type                  ensemble                                     \n",
       "EA-LSTM MSE                 False      -10.733926       0.0   0.452182   \n",
       "                            True       -10.733926       NaN   0.452182   \n",
       "EA-LSTM NSE                 False        0.600949       0.0   0.650381   \n",
       "                            True         0.600949       NaN   0.650381   \n",
       "LSTM MSE                    False       -4.119752       0.0   0.549334   \n",
       "                            True        -4.119752       NaN   0.549334   \n",
       "LSTM NSE                    False        0.645367       0.0   0.681873   \n",
       "                            True         0.645367       NaN   0.681873   \n",
       "LSTM (no static inputs) MSE False    -9678.776195       0.0 -11.425381   \n",
       "                            True     -9678.776195       NaN -11.425381   \n",
       "LSTM (no static inputs) NSE False       -1.650329       0.0  -0.207211   \n",
       "                            True        -1.650329       NaN  -0.207211   \n",
       "\n",
       "                                      std_median  failures  std_failures  \n",
       "model_type                  ensemble                                      \n",
       "EA-LSTM MSE                 False            0.0      47.0           0.0  \n",
       "                            True             NaN      47.0           NaN  \n",
       "EA-LSTM NSE                 False            0.0       6.0           0.0  \n",
       "                            True             NaN       6.0           NaN  \n",
       "LSTM MSE                    False            0.0      36.0           0.0  \n",
       "                            True             NaN      36.0           NaN  \n",
       "LSTM NSE                    False            0.0       2.0           0.0  \n",
       "                            True             NaN       2.0           NaN  \n",
       "LSTM (no static inputs) MSE False            0.0     153.0           0.0  \n",
       "                            True             NaN     153.0           NaN  \n",
       "LSTM (no static inputs) NSE False            0.0     141.0           0.0  \n",
       "                            True             NaN     141.0           NaN  "
      ]
     },
     "execution_count": 19,
     "metadata": {},
     "output_type": "execute_result"
    }
   ],
   "source": [
    "data = []\n",
    "for model_type, models in all_metrics[\"NSE\"].items():\n",
    "    if model_type == \"benchmarks\":\n",
    "        continue\n",
    "    seeds = [k for k in models.keys() if \"seed\" in k]\n",
    "    means, medians, failures = [], [], []\n",
    "    for seed in seeds:\n",
    "        nses = list(models[seed].values())\n",
    "        means.append(np.mean(nses))\n",
    "        medians.append(np.median(nses))\n",
    "        failures.append(len([v for v in nses if v <= 0]))\n",
    "    data_sing = {'model_type': model_draw_style[model_type][\"label\"], \n",
    "                 'ensemble': False, \n",
    "                 'mean': np.mean(means), \n",
    "                 'std_mean': np.std(means),\n",
    "                 'median': np.mean(medians),\n",
    "                 'std_median': np.std(medians),\n",
    "                 'failures': np.mean(failures),\n",
    "                 'std_failures': np.std(failures)}\n",
    "    data.append(data_sing)\n",
    "    values = list(models[\"ensemble\"].values())\n",
    "    data_ensemble = {'model_type': model_draw_style[model_type][\"label\"],\n",
    "                   'ensemble': True,\n",
    "                   'mean': np.mean(values),\n",
    "                   'median': np.median(values),\n",
    "                   'failures': len([v for v in values if v < 0]) }\n",
    "    data.append(data_ensemble)\n",
    "\n",
    "df = pd.DataFrame(data)\n",
    "df = df.set_index(keys=[\"model_type\", \"ensemble\"])\n",
    "df"
   ]
  },
  {
   "cell_type": "markdown",
   "metadata": {},
   "source": [
    "## Cumulative density function plot\n",
    "\n",
    "Here we look at the CDF of the NSEs for each of our 6 configurations. \n",
    "\n",
    "- `solid` lines mark models trained with `NSELoss`, `dashed` lines mark models trained with `MSELoss`\n",
    "- `saturated colors` are ensemble (n=8) means, `non-saturated colors` is a single model. Here we took seed 111 of each model, which is rather arbitrary but from the table above we seed that the mean/median NSE are robust between different random initializations.\n",
    "- `square` marker denote models trained with static features, while `triangle` markers denote models trained without static features\n",
    "- `green` is our proposed `EA-LSTM`, `orange` the standard LSTM with static features and `purple` the standard LSTM trained only on meteorological forcing data."
   ]
  },
  {
   "cell_type": "code",
   "execution_count": 21,
   "metadata": {},
   "outputs": [
    {
     "name": "stdout",
     "output_type": "stream",
     "text": [
      "{'seed363233': {'01195100': -10.238116234032505, '01118300': -110.12247308075483, '01123000': -6.802962082048334, '01121000': -47.16959606550248, '01187300': 0.25048709588840434, '01181000': 0.5732618246411423, '01144000': 0.7438852480293527, '01052500': 0.6885186451105622, '01078000': 0.7579308410815687, '01142500': -2.4686261672956626, '01170100': 0.4202204664253911, '01073000': 0.360468747768962, '01162500': -0.6277822705056022, '01169000': 0.22393643874479052, '01030500': 0.751183853184578, '01013500': 0.8565703112978827, '01137500': -17.611955051961985, '02015700': 0.10286069087176786, '01031500': 0.7589077191786873, '01022500': 0.5901511967637446, '01054200': 0.4314870258595487, '04296000': 0.4404201841465941, '01055000': 0.20305740587836163, '01047000': 0.7274492440767655, '01057000': 0.4786571751961384, '01139000': 0.4315509705627666, '01139800': -245.11517413208614, '02016000': 0.4842510540264441, '01134500': -2.845714011214769, '01666500': -0.05492151074164542, '02018000': 0.6295941914066779, '01667500': 0.34288617434069923, '01620500': -115.25651822153675, '02011460': -110.29116375873329, '02011400': 0.48785564573460016, '02027000': 0.38764593872717035, '01658500': -26.00242204957409, '02027500': 0.35581216209170563, '02017500': 0.512685639884758, '01664000': 0.6402108700325508, '01632000': 0.2090387255567685, '02013000': 0.4333702568057022, '01605500': 0.3496463561533678, '02028500': 0.561075376368946, '02014000': 0.6610931497233883, '02038850': -9.275854996427633, '01586610': 0.34984309360264687, '01632900': -784.3232883245953, '01580000': 0.3231678582369656, '01644000': 0.5587488512834966, '01557500': -1.610734554404607, '01591400': -1.5869262767890806, '01583500': -10.849123642100128, '01594950': -135.44584809933005, '01634500': 0.30609879131495377, '01596500': -1.4337986278185917, '01638480': 0.5291209391849401, '01639500': 0.3547712882505444, '01606500': 0.5804724058164006, '01567500': -8.66491995830992, '01613050': -4.45836419064459, '01568000': 0.428570402973828, '01451800': -22.44651628699159, '01544500': 0.42414187497157396, '01542810': 0.22783065652996337, '01532000': 0.3620819605617547, '01516500': -12.784208659806817, '01548500': 0.7452559447703951, '01415000': -6.874477544053228, '01549500': 0.027456627516727616, '01539000': 0.7488923833561619, '01518862': 0.687701781462644, '01543000': 0.6493918978355304, '01543500': 0.6232278274196871, '01545600': 0.27294246185425075, '01547700': 0.08559999012490238, '01550000': 0.5476697457684889, '01552000': 0.6546286068928238, '01552500': 0.40352346454713095, '01414500': -78.63381922572209, '01434025': -1.2604027051917388, '01350080': -0.6140633990533557, '01440000': 0.48237317919217326, '01350140': -19.4739781238929, '01423000': 0.7707459417608447, '01435000': 0.5044268915824346, '01440400': 0.4521822566490489, '01413500': 0.18554699772425132, '01439500': 0.5390819894379342, '01333000': -12.695025292890852, '01365000': -4.435620411401082, '01350000': 0.6649386771182931, '01510000': 0.6796604667556727, '02193340': -1.9618131845301052, '02152100': 0.47607436725847263, '02143040': 0.44772265432150726, '02196000': 0.6079251258663261, '02178400': 0.7104169380210699, '02149000': 0.5717354542851447, '02125000': 0.5255316402740762, '02053800': 0.5069416462007543, '02111180': 0.6907856162990614, '02111500': -1.9537446970618602, '02112120': 0.4464536582825026, '02177000': 0.7114167349791243, '02055100': -22.83112341367625, '02128000': 0.4853544536231077, '02069700': -1.5712550833147865, '02118500': 0.5818010305000525, '02143000': 0.45784613200651336, '02070000': 0.12956533152637584, '02064000': 0.4671352046272198, '02059500': 0.4851748515727503, '02140991': 0.6409743782752323, '02096846': 0.5640715998656145, '02051000': 0.4996073466009583, '02046000': 0.43312328128024136, '02056900': 0.6566221445248217, '02065500': 0.2735402211932624, '02137727': 0.6965337633702522, '02077200': -2.403998398368669, '02081500': 0.6326193373297191, '02112360': -0.08882299079176059, '02074500': 0.4876054825102528, '02051500': 0.425399075178446, '02082950': 0.2790680748974126, '02212600': 0.4275064795270712, '02221525': -0.3670074278785931, '02408540': 0.8291252131434756, '02415000': 0.8028388603035419, '02395120': 0.6304671025691728, '02381600': 0.5929950063661102, '02384540': 0.528597297651318, '02450250': 0.5288450004854964, '04221000': 0.6954636633515993, '04224775': 0.3972847433961175, '04233000': -1.0241114130495124, '04213000': 0.5445119951164146, '04256000': -2.1200551212526024, '03281100': 0.5160001802714329, '03281500': 0.6722225407512161, '03161000': 0.589916577645514, '03182500': 0.6453222741034428, '03170000': 0.5624097158826875, '03164000': 0.4074969681693881, '03165000': -138.54724997353233, '03280700': 0.6273109257027801, '03213700': 0.6106137151675192, '03187500': 0.6745766395875408, '03186500': 0.6854278143352199, '03180500': 0.7004785709471142, '03237280': -8.085707873644509, '03173000': 0.6539664827046022, '03050000': 0.7409317412841399, '03070500': 0.6949049983616842, '03159540': 0.6214592137369548, '03078000': 0.018085635339732953, '03069500': 0.6733989127204763, '03066000': 0.5700678117664019, '03076600': 0.08758897731006976, '03144000': 0.5206896749149206, '03140000': 0.18125652696756045, '03011800': 0.5072694744476842, '03049000': 0.5684384153164288, '03049800': -14.627454545287854, '03015500': 0.4699246762922109, '03010655': 0.6771276450080322, '03460000': 0.670499439778051, '03021350': -1.4069385573879623, '03026500': -42.821060244517724, '03028000': 0.48234366253011207, '03574500': 0.3477326896182412, '03450000': -0.24885743690797701, '03504000': 0.7429455570251121, '03439000': 0.08757274748527621, '03456500': 0.48130743623351624, '03473000': 0.6388192569655854, '03500000': 0.6397720382325006, '03455500': 0.38296078435884706, '03471500': 0.5236772755845146, '03498500': 0.8050595170864475, '03500240': -5.355853996121891, '03463300': 0.4177163065447447, '03488000': 0.6458598387269434, '03479000': 0.6850924227102699}, 'ensemble': {'01195100': -10.238116234032505, '01118300': -110.12247308075483, '01123000': -6.802962082048334, '01121000': -47.16959606550248, '01187300': 0.25048709588840434, '01181000': 0.5732618246411423, '01144000': 0.7438852480293527, '01052500': 0.6885186451105622, '01078000': 0.7579308410815687, '01142500': -2.4686261672956626, '01170100': 0.4202204664253911, '01073000': 0.360468747768962, '01162500': -0.6277822705056022, '01169000': 0.22393643874479052, '01030500': 0.751183853184578, '01013500': 0.8565703112978827, '01137500': -17.611955051961985, '02015700': 0.10286069087176786, '01031500': 0.7589077191786873, '01022500': 0.5901511967637446, '01054200': 0.4314870258595487, '04296000': 0.4404201841465941, '01055000': 0.20305740587836163, '01047000': 0.7274492440767655, '01057000': 0.4786571751961384, '01139000': 0.4315509705627666, '01139800': -245.11517413208614, '02016000': 0.4842510540264441, '01134500': -2.845714011214769, '01666500': -0.05492151074164542, '02018000': 0.6295941914066779, '01667500': 0.34288617434069923, '01620500': -115.25651822153675, '02011460': -110.29116375873329, '02011400': 0.48785564573460016, '02027000': 0.38764593872717035, '01658500': -26.00242204957409, '02027500': 0.35581216209170563, '02017500': 0.512685639884758, '01664000': 0.6402108700325508, '01632000': 0.2090387255567685, '02013000': 0.4333702568057022, '01605500': 0.3496463561533678, '02028500': 0.561075376368946, '02014000': 0.6610931497233883, '02038850': -9.275854996427633, '01586610': 0.34984309360264687, '01632900': -784.3232883245953, '01580000': 0.3231678582369656, '01644000': 0.5587488512834966, '01557500': -1.610734554404607, '01591400': -1.5869262767890806, '01583500': -10.849123642100128, '01594950': -135.44584809933005, '01634500': 0.30609879131495377, '01596500': -1.4337986278185917, '01638480': 0.5291209391849401, '01639500': 0.3547712882505444, '01606500': 0.5804724058164006, '01567500': -8.66491995830992, '01613050': -4.45836419064459, '01568000': 0.428570402973828, '01451800': -22.44651628699159, '01544500': 0.42414187497157396, '01542810': 0.22783065652996337, '01532000': 0.3620819605617547, '01516500': -12.784208659806817, '01548500': 0.7452559447703951, '01415000': -6.874477544053228, '01549500': 0.027456627516727616, '01539000': 0.7488923833561619, '01518862': 0.687701781462644, '01543000': 0.6493918978355304, '01543500': 0.6232278274196871, '01545600': 0.27294246185425075, '01547700': 0.08559999012490238, '01550000': 0.5476697457684889, '01552000': 0.6546286068928238, '01552500': 0.40352346454713095, '01414500': -78.63381922572209, '01434025': -1.2604027051917388, '01350080': -0.6140633990533557, '01440000': 0.48237317919217326, '01350140': -19.4739781238929, '01423000': 0.7707459417608447, '01435000': 0.5044268915824346, '01440400': 0.4521822566490489, '01413500': 0.18554699772425132, '01439500': 0.5390819894379342, '01333000': -12.695025292890852, '01365000': -4.435620411401082, '01350000': 0.6649386771182931, '01510000': 0.6796604667556727, '02193340': -1.9618131845301052, '02152100': 0.47607436725847263, '02143040': 0.44772265432150726, '02196000': 0.6079251258663261, '02178400': 0.7104169380210699, '02149000': 0.5717354542851447, '02125000': 0.5255316402740762, '02053800': 0.5069416462007543, '02111180': 0.6907856162990614, '02111500': -1.9537446970618602, '02112120': 0.4464536582825026, '02177000': 0.7114167349791243, '02055100': -22.83112341367625, '02128000': 0.4853544536231077, '02069700': -1.5712550833147865, '02118500': 0.5818010305000525, '02143000': 0.45784613200651336, '02070000': 0.12956533152637584, '02064000': 0.4671352046272198, '02059500': 0.4851748515727503, '02140991': 0.6409743782752323, '02096846': 0.5640715998656145, '02051000': 0.4996073466009583, '02046000': 0.43312328128024136, '02056900': 0.6566221445248217, '02065500': 0.2735402211932624, '02137727': 0.6965337633702522, '02077200': -2.403998398368669, '02081500': 0.6326193373297191, '02112360': -0.08882299079176059, '02074500': 0.4876054825102528, '02051500': 0.425399075178446, '02082950': 0.2790680748974126, '02212600': 0.4275064795270712, '02221525': -0.3670074278785931, '02408540': 0.8291252131434756, '02415000': 0.8028388603035419, '02395120': 0.6304671025691728, '02381600': 0.5929950063661102, '02384540': 0.528597297651318, '02450250': 0.5288450004854964, '04221000': 0.6954636633515993, '04224775': 0.3972847433961175, '04233000': -1.0241114130495124, '04213000': 0.5445119951164146, '04256000': -2.1200551212526024, '03281100': 0.5160001802714329, '03281500': 0.6722225407512161, '03161000': 0.589916577645514, '03182500': 0.6453222741034428, '03170000': 0.5624097158826875, '03164000': 0.4074969681693881, '03165000': -138.54724997353233, '03280700': 0.6273109257027801, '03213700': 0.6106137151675192, '03187500': 0.6745766395875408, '03186500': 0.6854278143352199, '03180500': 0.7004785709471142, '03237280': -8.085707873644509, '03173000': 0.6539664827046022, '03050000': 0.7409317412841399, '03070500': 0.6949049983616842, '03159540': 0.6214592137369548, '03078000': 0.018085635339732953, '03069500': 0.6733989127204763, '03066000': 0.5700678117664019, '03076600': 0.08758897731006976, '03144000': 0.5206896749149206, '03140000': 0.18125652696756045, '03011800': 0.5072694744476842, '03049000': 0.5684384153164288, '03049800': -14.627454545287854, '03015500': 0.4699246762922109, '03010655': 0.6771276450080322, '03460000': 0.670499439778051, '03021350': -1.4069385573879623, '03026500': -42.821060244517724, '03028000': 0.48234366253011207, '03574500': 0.3477326896182412, '03450000': -0.24885743690797701, '03504000': 0.7429455570251121, '03439000': 0.08757274748527621, '03456500': 0.48130743623351624, '03473000': 0.6388192569655854, '03500000': 0.6397720382325006, '03455500': 0.38296078435884706, '03471500': 0.5236772755845146, '03498500': 0.8050595170864475, '03500240': -5.355853996121891, '03463300': 0.4177163065447447, '03488000': 0.6458598387269434, '03479000': 0.6850924227102699}}\n"
     ]
    },
    {
     "ename": "KeyError",
     "evalue": "'seed111'",
     "output_type": "error",
     "traceback": [
      "\u001B[1;31m---------------------------------------------------------------------------\u001B[0m",
      "\u001B[1;31mKeyError\u001B[0m                                  Traceback (most recent call last)",
      "\u001B[1;32m<ipython-input-21-4259e8b46555>\u001B[0m in \u001B[0;36m<module>\u001B[1;34m\u001B[0m\n\u001B[0;32m      7\u001B[0m         \u001B[1;31m# single seed\u001B[0m\u001B[1;33m\u001B[0m\u001B[1;33m\u001B[0m\u001B[1;33m\u001B[0m\u001B[0m\n\u001B[0;32m      8\u001B[0m         \u001B[0mprint\u001B[0m\u001B[1;33m(\u001B[0m\u001B[0mmodels\u001B[0m\u001B[1;33m)\u001B[0m\u001B[1;33m\u001B[0m\u001B[1;33m\u001B[0m\u001B[0m\n\u001B[1;32m----> 9\u001B[1;33m         \u001B[0mvalues\u001B[0m \u001B[1;33m=\u001B[0m \u001B[0mlist\u001B[0m\u001B[1;33m(\u001B[0m\u001B[0mmodels\u001B[0m\u001B[1;33m[\u001B[0m\u001B[0mseed_label\u001B[0m\u001B[1;33m]\u001B[0m\u001B[1;33m.\u001B[0m\u001B[0mvalues\u001B[0m\u001B[1;33m(\u001B[0m\u001B[1;33m)\u001B[0m\u001B[1;33m)\u001B[0m\u001B[1;33m\u001B[0m\u001B[1;33m\u001B[0m\u001B[0m\n\u001B[0m\u001B[0;32m     10\u001B[0m         \u001B[0mbin_\u001B[0m\u001B[1;33m,\u001B[0m \u001B[0mcdf_\u001B[0m \u001B[1;33m=\u001B[0m \u001B[0mecdf\u001B[0m\u001B[1;33m(\u001B[0m\u001B[0mvalues\u001B[0m\u001B[1;33m)\u001B[0m\u001B[1;33m\u001B[0m\u001B[1;33m\u001B[0m\u001B[0m\n\u001B[0;32m     11\u001B[0m         ax.plot(bin_,\n",
      "\u001B[1;31mKeyError\u001B[0m: 'seed111'"
     ]
    },
    {
     "data": {
      "image/png": "[encoded data removed]",
      "text/plain": [
       "<Figure size 1152x720 with 1 Axes>"
      ]
     },
     "metadata": {
      "needs_background": "light"
     },
     "output_type": "display_data"
    }
   ],
   "source": [
    "fig, ax = plt.subplots(figsize=(16,10))\n",
    "# print(all_metrics[\"NSE\"])\n",
    "seed_label = \"seed111\"\n",
    "\n",
    "for model_type, models in all_metrics[\"NSE\"].items():\n",
    "    if 'lstm' in model_type:\n",
    "        # single seed\n",
    "        print(models)\n",
    "        values = list(models[seed_label].values())\n",
    "        bin_, cdf_ = ecdf(values)\n",
    "        ax.plot(bin_,\n",
    "                cdf_,\n",
    "                label=f\"{model_draw_style[model_type]['label']} {seed_label}\",\n",
    "                color=model_draw_style[model_type][\"single_color\"], \n",
    "                marker=model_draw_style[model_type]['marker'], \n",
    "                markevery=20, \n",
    "                linestyle=model_draw_style[model_type]['linestyle'])\n",
    "        \n",
    "        # ensemble seed\n",
    "        values = list(models['ensemble'].values())\n",
    "        bin_, cdf_ = ecdf(values)\n",
    "        ax.plot(bin_,\n",
    "                cdf_, \n",
    "                label=f\"{model_draw_style[model_type]['label']} ensemble (n=8)\", \n",
    "                color=model_draw_style[model_type]['ensemble_color'], \n",
    "                linestyle=model_draw_style[model_type]['linestyle'])\n",
    "    \n",
    "ax.set_xlim(0, 1)\n",
    "ax.grid(True)\n",
    "ax.legend(loc='upper left')\n",
    "ax.set_xlabel('NSE', fontsize=14)\n",
    "ax.set_ylabel('cumulative density', fontsize=14)\n",
    "ax.set_title(\"Effect of (not) using static catchment attributes\", fontsize=18)"
   ]
  },
  {
   "cell_type": "markdown",
   "metadata": {},
   "source": [
    "## Calculate statistical significance.\n",
    "\n",
    "1. Calculate statistical significance between LSTM trained with and without static features using either MSE or NSE as loss function.\n",
    "\n",
    "2. Calculate statistical significance between EA-LSTM and standard LSTM (with static features)\n",
    "\n",
    "We always report the max, mean p-value between all possible seed combinations (n=8^2=64) as well as the p-value between the ensemble means"
   ]
  },
  {
   "cell_type": "code",
   "execution_count": 13,
   "metadata": {},
   "outputs": [
    {
     "name": "stdout",
     "output_type": "stream",
     "text": [
      "### NSE:\n",
      "With or without statics, optimized with MSE\n",
      "Single models: p-value=4.14e-32\n",
      "Ensemble mean: 4.14e-32\n",
      "\n",
      "With or without statics, optimized with NSE\n",
      "Single models: p-value=4.14e-32\n",
      "Ensemble mean: 4.14e-32\n",
      "\n",
      "EA-LSTM vs LSTM (with statics), optimized with MSE\n",
      "Single models: p-value=1.67e-13\n",
      "Ensemble mean: 1.67e-13\n",
      "\n",
      "EA-LSTM vs LSTM (with statics), optimized with NSE\n",
      "Single models: p-value=7.81e-10\n",
      "Ensemble mean: 7.81e-10\n",
      "Effect size using Cohen's d is: d=0.249\n",
      "\n",
      "EA-LSTM optimized with NSE vs. EA-LSTM optimized with MSE\n",
      "Single models: p-value=1.21e-16\n",
      "Ensemble mean: 1.21e-16\n",
      "\n",
      "LSTM  without static features optimized with NSE vs. optimized with MSE\n",
      "Single models: p-value=4.99e-21\n",
      "Ensemble mean: 4.99e-21\n"
     ]
    }
   ],
   "source": [
    "print(\"### NSE:\")\n",
    "print(\"With or without statics, optimized with MSE\")\n",
    "p_val_single, p_val_ensemble = get_pvals(all_metrics[\"NSE\"], \n",
    "                                         model1='lstm_no_static_MSE', \n",
    "                                         model2='lstm_MSE')\n",
    "print(f\"Single models: p-value={p_val_single:.2e}\")\n",
    "print(f\"Ensemble mean: {p_val_ensemble:.2e}\")\n",
    "\n",
    "print(\"\\nWith or without statics, optimized with NSE\")\n",
    "p_val_single, p_val_ensemble = get_pvals(all_metrics[\"NSE\"], \n",
    "                                         model1='lstm_no_static_NSE', \n",
    "                                         model2='lstm_NSE')\n",
    "print(f\"Single models: p-value={p_val_single:.2e}\")\n",
    "print(f\"Ensemble mean: {p_val_ensemble:.2e}\")\n",
    "\n",
    "print(\"\\nEA-LSTM vs LSTM (with statics), optimized with MSE\")\n",
    "p_val_single, p_val_ensemble = get_pvals(all_metrics[\"NSE\"], \n",
    "                                         model1='lstm_MSE', \n",
    "                                         model2='ealstm_MSE')\n",
    "print(f\"Single models: p-value={p_val_single:.2e}\")\n",
    "print(f\"Ensemble mean: {p_val_ensemble:.2e}\")\n",
    "\n",
    "print(\"\\nEA-LSTM vs LSTM (with statics), optimized with NSE\")\n",
    "p_val_single, p_val_ensemble = get_pvals(all_metrics[\"NSE\"], \n",
    "                                         model1='lstm_NSE', \n",
    "                                         model2='ealstm_NSE')\n",
    "print(f\"Single models: p-value={p_val_single:.2e}\")\n",
    "print(f\"Ensemble mean: {p_val_ensemble:.2e}\")\n",
    "\n",
    "values1 = get_mean_basin_performance(all_metrics[\"NSE\"], model=\"ealstm_NSE\")\n",
    "values1 = list(values1.values())\n",
    "values2 = get_mean_basin_performance(all_metrics[\"NSE\"], model=\"lstm_NSE\")\n",
    "values2 = list(values2.values())\n",
    "d = get_cohens_d(values1, values2)\n",
    "print(f\"Effect size using Cohen's d is: d={d:.3f}\")\n",
    "\n",
    "\n",
    "print(\"\\nEA-LSTM optimized with NSE vs. EA-LSTM optimized with MSE\")\n",
    "p_val_single, p_val_ensemble = get_pvals(all_metrics[\"NSE\"], \n",
    "                                         model1='ealstm_NSE', \n",
    "                                         model2='ealstm_MSE')\n",
    "print(f\"Single models: p-value={p_val_single:.2e}\")\n",
    "print(f\"Ensemble mean: {p_val_ensemble:.2e}\")\n",
    "\n",
    "print(\"\\nLSTM  without static features optimized with NSE vs. optimized with MSE\")\n",
    "p_val_single, p_val_ensemble = get_pvals(all_metrics[\"NSE\"], \n",
    "                                         model1='lstm_no_static_MSE', \n",
    "                                         model2='lstm_no_static_NSE')\n",
    "print(f\"Single models: p-value={p_val_single:.2e}\")\n",
    "print(f\"Ensemble mean: {p_val_ensemble:.2e}\")"
   ]
  },
  {
   "cell_type": "markdown",
   "metadata": {},
   "source": [
    "# Compare against benchmark models\n",
    "\n",
    "Now we compare our model, the `EA-LSTM` optimized with `NSELoss`, against the set of benchmark models. Here, we only use the model results from the set of basins that were modeled by all models (the benchmark models and our models).\n",
    "\n",
    "First, we have to calculate the metrics for all basins and benchmark models (or load the data from the precomputed file)"
   ]
  },
  {
   "cell_type": "code",
   "execution_count": 10,
   "metadata": {},
   "outputs": [
    {
     "name": "stdout",
     "output_type": "stream",
     "text": [
      "Stored precomputed data in 'all_metrics.p'\n"
     ]
    }
   ],
   "source": [
    "if not PRECOMPUTED_DATA:\n",
    "    with open(\"all_metrics.p\", \"wb\") as fp:\n",
    "        pickle.dump(all_metrics, fp)\n",
    "    print(\"Stored precomputed data in 'all_metrics.p'\")"
   ]
  },
  {
   "cell_type": "code",
   "execution_count": 11,
   "metadata": {},
   "outputs": [
    {
     "ename": "KeyError",
     "evalue": "'benchmarks'",
     "output_type": "error",
     "traceback": [
      "\u001B[1;31m---------------------------------------------------------------------------\u001B[0m",
      "\u001B[1;31mKeyError\u001B[0m                                  Traceback (most recent call last)",
      "\u001B[1;32m<ipython-input-11-eb83edda12dc>\u001B[0m in \u001B[0;36m<module>\u001B[1;34m\u001B[0m\n\u001B[0;32m      1\u001B[0m \u001B[1;31m# find all basins modeled by all benchmarks\u001B[0m\u001B[1;33m\u001B[0m\u001B[1;33m\u001B[0m\u001B[1;33m\u001B[0m\u001B[0m\n\u001B[0;32m      2\u001B[0m \u001B[0mbasins\u001B[0m \u001B[1;33m=\u001B[0m \u001B[0mfrozenset\u001B[0m\u001B[1;33m(\u001B[0m\u001B[0mlist\u001B[0m\u001B[1;33m(\u001B[0m\u001B[0mall_metrics\u001B[0m\u001B[1;33m[\u001B[0m\u001B[1;34m\"NSE\"\u001B[0m\u001B[1;33m]\u001B[0m\u001B[1;33m[\u001B[0m\u001B[1;34m\"ealstm_NSE\"\u001B[0m\u001B[1;33m]\u001B[0m\u001B[1;33m[\u001B[0m\u001B[1;34m\"ensemble\"\u001B[0m\u001B[1;33m]\u001B[0m\u001B[1;33m.\u001B[0m\u001B[0mkeys\u001B[0m\u001B[1;33m(\u001B[0m\u001B[1;33m)\u001B[0m\u001B[1;33m)\u001B[0m\u001B[1;33m)\u001B[0m\u001B[1;33m\u001B[0m\u001B[1;33m\u001B[0m\u001B[0m\n\u001B[1;32m----> 3\u001B[1;33m \u001B[1;32mfor\u001B[0m \u001B[0mmodel\u001B[0m\u001B[1;33m,\u001B[0m \u001B[0mresults\u001B[0m \u001B[1;32min\u001B[0m \u001B[0mall_metrics\u001B[0m\u001B[1;33m[\u001B[0m\u001B[1;34m\"NSE\"\u001B[0m\u001B[1;33m]\u001B[0m\u001B[1;33m[\u001B[0m\u001B[1;34m\"benchmarks\"\u001B[0m\u001B[1;33m]\u001B[0m\u001B[1;33m.\u001B[0m\u001B[0mitems\u001B[0m\u001B[1;33m(\u001B[0m\u001B[1;33m)\u001B[0m\u001B[1;33m:\u001B[0m\u001B[1;33m\u001B[0m\u001B[1;33m\u001B[0m\u001B[0m\n\u001B[0m\u001B[0;32m      4\u001B[0m     \u001B[0mbasins\u001B[0m \u001B[1;33m=\u001B[0m \u001B[0mbasins\u001B[0m\u001B[1;33m.\u001B[0m\u001B[0mintersection\u001B[0m\u001B[1;33m(\u001B[0m\u001B[0mlist\u001B[0m\u001B[1;33m(\u001B[0m\u001B[0mresults\u001B[0m\u001B[1;33m.\u001B[0m\u001B[0mkeys\u001B[0m\u001B[1;33m(\u001B[0m\u001B[1;33m)\u001B[0m\u001B[1;33m)\u001B[0m\u001B[1;33m)\u001B[0m\u001B[1;33m\u001B[0m\u001B[1;33m\u001B[0m\u001B[0m\n\u001B[0;32m      5\u001B[0m \u001B[0mlen\u001B[0m\u001B[1;33m(\u001B[0m\u001B[0mbasins\u001B[0m\u001B[1;33m)\u001B[0m\u001B[1;33m\u001B[0m\u001B[1;33m\u001B[0m\u001B[0m\n",
      "\u001B[1;31mKeyError\u001B[0m: 'benchmarks'"
     ]
    }
   ],
   "source": [
    "# find all basins modeled by all benchmarks\n",
    "basins = frozenset(list(all_metrics[\"NSE\"][\"ealstm_NSE\"][\"ensemble\"].keys()))\n",
    "for model, results in all_metrics[\"NSE\"][\"benchmarks\"].items():\n",
    "    basins = basins.intersection(list(results.keys()))\n",
    "len(basins)"
   ]
  },
  {
   "cell_type": "code",
   "execution_count": 12,
   "metadata": {},
   "outputs": [],
   "source": [
    "# get subset of all metrics for these share basins\n",
    "sub_metrics = {metric: defaultdict(dict) for metric in all_metrics.keys()}\n",
    "for metric, model_metric in all_metrics.items():\n",
    "    for model_type, models in model_metric.items():\n",
    "        for model, results in models.items():\n",
    "            sub_metrics[metric][model_type][model] = {}\n",
    "            for basin, nse in results.items():\n",
    "                if basin in basins:\n",
    "                    sub_metrics[metric][model_type][model][basin] = nse"
   ]
  },
  {
   "cell_type": "code",
   "execution_count": 14,
   "metadata": {},
   "outputs": [
    {
     "ename": "NameError",
     "evalue": "name 'sub_metrics' is not defined",
     "output_type": "error",
     "traceback": [
      "\u001B[1;31m---------------------------------------------------------------------------\u001B[0m",
      "\u001B[1;31mNameError\u001B[0m                                 Traceback (most recent call last)",
      "\u001B[1;32m<ipython-input-14-3c9f61d97cce>\u001B[0m in \u001B[0;36m<module>\u001B[1;34m\u001B[0m\n\u001B[0;32m      1\u001B[0m \u001B[0mfig\u001B[0m\u001B[1;33m,\u001B[0m \u001B[0max\u001B[0m \u001B[1;33m=\u001B[0m \u001B[0mplt\u001B[0m\u001B[1;33m.\u001B[0m\u001B[0msubplots\u001B[0m\u001B[1;33m(\u001B[0m\u001B[0mfigsize\u001B[0m\u001B[1;33m=\u001B[0m\u001B[1;33m(\u001B[0m\u001B[1;36m16\u001B[0m\u001B[1;33m,\u001B[0m\u001B[1;36m10\u001B[0m\u001B[1;33m)\u001B[0m\u001B[1;33m)\u001B[0m\u001B[1;33m\u001B[0m\u001B[1;33m\u001B[0m\u001B[0m\n\u001B[0;32m      2\u001B[0m \u001B[1;33m\u001B[0m\u001B[0m\n\u001B[1;32m----> 3\u001B[1;33m \u001B[1;32mfor\u001B[0m \u001B[0mmodel_type\u001B[0m\u001B[1;33m,\u001B[0m \u001B[0mmodels\u001B[0m \u001B[1;32min\u001B[0m \u001B[0msub_metrics\u001B[0m\u001B[1;33m[\u001B[0m\u001B[1;34m\"NSE\"\u001B[0m\u001B[1;33m]\u001B[0m\u001B[1;33m.\u001B[0m\u001B[0mitems\u001B[0m\u001B[1;33m(\u001B[0m\u001B[1;33m)\u001B[0m\u001B[1;33m:\u001B[0m\u001B[1;33m\u001B[0m\u001B[1;33m\u001B[0m\u001B[0m\n\u001B[0m\u001B[0;32m      4\u001B[0m     \u001B[1;32mif\u001B[0m \u001B[1;33m(\u001B[0m\u001B[0mmodel_type\u001B[0m \u001B[1;33m==\u001B[0m \u001B[1;34m\"ealstm_NSE\"\u001B[0m\u001B[1;33m)\u001B[0m \u001B[1;32mor\u001B[0m \u001B[1;33m(\u001B[0m\u001B[0mmodel_type\u001B[0m \u001B[1;33m==\u001B[0m \u001B[1;34m\"lstm_no_static_NSE\"\u001B[0m\u001B[1;33m)\u001B[0m\u001B[1;33m:\u001B[0m\u001B[1;33m\u001B[0m\u001B[1;33m\u001B[0m\u001B[0m\n\u001B[0;32m      5\u001B[0m         \u001B[1;31m# single seed\u001B[0m\u001B[1;33m\u001B[0m\u001B[1;33m\u001B[0m\u001B[1;33m\u001B[0m\u001B[0m\n",
      "\u001B[1;31mNameError\u001B[0m: name 'sub_metrics' is not defined"
     ]
    },
    {
     "data": {
      "image/png": "[encoded data removed]",
      "text/plain": [
       "<Figure size 1152x720 with 1 Axes>"
      ]
     },
     "metadata": {
      "needs_background": "light"
     },
     "output_type": "display_data"
    }
   ],
   "source": [
    "fig, ax = plt.subplots(figsize=(16,10))\n",
    "\n",
    "for model_type, models in sub_metrics[\"NSE\"].items():\n",
    "    if (model_type == \"ealstm_NSE\") or (model_type == \"lstm_no_static_NSE\"):\n",
    "        # single seed\n",
    "        print(models.keys())\n",
    "        values = list(models['seed111'].values())\n",
    "        bin_, cdf_ = ecdf(values)\n",
    "        ax.plot(bin_,\n",
    "                cdf_,\n",
    "                label=f\"{model_draw_style[model_type]['label']} seed111\",\n",
    "                color=model_draw_style[model_type][\"single_color\"], \n",
    "                marker=model_draw_style[model_type]['marker'], \n",
    "                markevery=20, \n",
    "                linestyle=model_draw_style[model_type]['linestyle'])\n",
    "        \n",
    "        # ensemble seed\n",
    "        values = list(models['ensemble'].values())\n",
    "        bin_, cdf_ = ecdf(values)\n",
    "        ax.plot(bin_,\n",
    "                cdf_, \n",
    "                label=f\"{model_draw_style[model_type]['label']} ensemble (n=8)\", \n",
    "                color=model_draw_style[model_type]['ensemble_color'], \n",
    "                linestyle=model_draw_style[model_type]['linestyle'])\n",
    "    elif model_type == \"benchmarks\":\n",
    "        for benchmark_model, benchmark_result in models.items():\n",
    "            if \"conus\" in benchmark_model:\n",
    "                values = list(benchmark_result.values())\n",
    "                bin_, cdf_ = ecdf(values)\n",
    "                ax.plot(bin_,\n",
    "                        cdf_, \n",
    "                        label=model_draw_style[benchmark_model]['label'], \n",
    "                        color=model_draw_style[benchmark_model]['color'], \n",
    "                        linestyle=model_draw_style[benchmark_model]['linestyle'])\n",
    "    \n",
    "ax.set_xlim(0, 1)\n",
    "ax.grid(True)\n",
    "ax.legend(loc='upper left')\n",
    "ax.set_xlabel('NSE', fontsize=14)\n",
    "ax.set_ylabel('cumulative density', fontsize=14)\n",
    "ax.set_title(\"Benchmarking against CONUS-wide calibrated hydrological models\", fontsize=18)"
   ]
  },
  {
   "cell_type": "code",
   "execution_count": 14,
   "metadata": {},
   "outputs": [
    {
     "ename": "KeyError",
     "evalue": "'VIC_conus'",
     "output_type": "error",
     "traceback": [
      "\u001B[1;31m---------------------------------------------------------------------------\u001B[0m",
      "\u001B[1;31mKeyError\u001B[0m                                  Traceback (most recent call last)",
      "\u001B[1;32m<ipython-input-14-d413a9b619cf>\u001B[0m in \u001B[0;36m<module>\u001B[1;34m\u001B[0m\n\u001B[0;32m      3\u001B[0m \u001B[1;32mfor\u001B[0m \u001B[0mbasin\u001B[0m \u001B[1;32min\u001B[0m \u001B[0mbasins\u001B[0m\u001B[1;33m:\u001B[0m\u001B[1;33m\u001B[0m\u001B[1;33m\u001B[0m\u001B[0m\n\u001B[0;32m      4\u001B[0m     \u001B[0mlstm_nse\u001B[0m \u001B[1;33m=\u001B[0m \u001B[0msub_metrics\u001B[0m\u001B[1;33m[\u001B[0m\u001B[1;34m\"NSE\"\u001B[0m\u001B[1;33m]\u001B[0m\u001B[1;33m[\u001B[0m\u001B[1;34m\"ealstm_NSE\"\u001B[0m\u001B[1;33m]\u001B[0m\u001B[1;33m[\u001B[0m\u001B[1;34m\"ensemble\"\u001B[0m\u001B[1;33m]\u001B[0m\u001B[1;33m[\u001B[0m\u001B[0mbasin\u001B[0m\u001B[1;33m]\u001B[0m\u001B[1;33m\u001B[0m\u001B[1;33m\u001B[0m\u001B[0m\n\u001B[1;32m----> 5\u001B[1;33m     \u001B[1;32mif\u001B[0m \u001B[0msub_metrics\u001B[0m\u001B[1;33m[\u001B[0m\u001B[1;34m\"NSE\"\u001B[0m\u001B[1;33m]\u001B[0m\u001B[1;33m[\u001B[0m\u001B[1;34m\"benchmarks\"\u001B[0m\u001B[1;33m]\u001B[0m\u001B[1;33m[\u001B[0m\u001B[1;34m\"VIC_conus\"\u001B[0m\u001B[1;33m]\u001B[0m\u001B[1;33m[\u001B[0m\u001B[0mbasin\u001B[0m\u001B[1;33m]\u001B[0m \u001B[1;33m>=\u001B[0m \u001B[0mlstm_nse\u001B[0m\u001B[1;33m:\u001B[0m\u001B[1;33m\u001B[0m\u001B[1;33m\u001B[0m\u001B[0m\n\u001B[0m\u001B[0;32m      6\u001B[0m         \u001B[0mvic_count\u001B[0m \u001B[1;33m+=\u001B[0m \u001B[1;36m1\u001B[0m\u001B[1;33m\u001B[0m\u001B[1;33m\u001B[0m\u001B[0m\n\u001B[0;32m      7\u001B[0m     \u001B[1;32mif\u001B[0m \u001B[0msub_metrics\u001B[0m\u001B[1;33m[\u001B[0m\u001B[1;34m\"NSE\"\u001B[0m\u001B[1;33m]\u001B[0m\u001B[1;33m[\u001B[0m\u001B[1;34m\"benchmarks\"\u001B[0m\u001B[1;33m]\u001B[0m\u001B[1;33m[\u001B[0m\u001B[1;34m\"mHm_conus\"\u001B[0m\u001B[1;33m]\u001B[0m\u001B[1;33m[\u001B[0m\u001B[0mbasin\u001B[0m\u001B[1;33m]\u001B[0m \u001B[1;33m>=\u001B[0m \u001B[0mlstm_nse\u001B[0m\u001B[1;33m:\u001B[0m\u001B[1;33m\u001B[0m\u001B[1;33m\u001B[0m\u001B[0m\n",
      "\u001B[1;31mKeyError\u001B[0m: 'VIC_conus'"
     ]
    }
   ],
   "source": [
    "vic_count = 0\n",
    "mhm_count = 0\n",
    "for basin in basins:\n",
    "    lstm_nse = sub_metrics[\"NSE\"][\"ealstm_NSE\"][\"ensemble\"][basin]\n",
    "    if sub_metrics[\"NSE\"][\"benchmarks\"][\"VIC_conus\"][basin] >= lstm_nse:\n",
    "        vic_count += 1\n",
    "    if sub_metrics[\"NSE\"][\"benchmarks\"][\"mHm_conus\"][basin] >= lstm_nse:\n",
    "        mhm_count += 1\n",
    "        \n",
    "print(f\"VIC is better (or equal) than EA-LSTM ensemble mean in {vic_count}/{len(basins)} basins\")\n",
    "print(f\"mHm is better (or equal) than EA-LSTM ensemble mean in {mhm_count}/{len(basins)} basins\")"
   ]
  },
  {
   "cell_type": "code",
   "execution_count": 15,
   "metadata": {},
   "outputs": [
    {
     "ename": "KeyError",
     "evalue": "'seed111'",
     "output_type": "error",
     "traceback": [
      "\u001B[1;31m---------------------------------------------------------------------------\u001B[0m",
      "\u001B[1;31mKeyError\u001B[0m                                  Traceback (most recent call last)",
      "\u001B[1;32m<ipython-input-15-4ecebf474e95>\u001B[0m in \u001B[0;36m<module>\u001B[1;34m\u001B[0m\n\u001B[0;32m      4\u001B[0m     \u001B[1;32mif\u001B[0m \u001B[0mmodel_type\u001B[0m \u001B[1;33m==\u001B[0m \u001B[1;34m\"ealstm_NSE\"\u001B[0m\u001B[1;33m:\u001B[0m\u001B[1;33m\u001B[0m\u001B[1;33m\u001B[0m\u001B[0m\n\u001B[0;32m      5\u001B[0m         \u001B[1;31m# single seed\u001B[0m\u001B[1;33m\u001B[0m\u001B[1;33m\u001B[0m\u001B[1;33m\u001B[0m\u001B[0m\n\u001B[1;32m----> 6\u001B[1;33m         \u001B[0mvalues\u001B[0m \u001B[1;33m=\u001B[0m \u001B[0mlist\u001B[0m\u001B[1;33m(\u001B[0m\u001B[0mmodels\u001B[0m\u001B[1;33m[\u001B[0m\u001B[1;34m'seed111'\u001B[0m\u001B[1;33m]\u001B[0m\u001B[1;33m.\u001B[0m\u001B[0mvalues\u001B[0m\u001B[1;33m(\u001B[0m\u001B[1;33m)\u001B[0m\u001B[1;33m)\u001B[0m\u001B[1;33m\u001B[0m\u001B[1;33m\u001B[0m\u001B[0m\n\u001B[0m\u001B[0;32m      7\u001B[0m         \u001B[0mbin_\u001B[0m\u001B[1;33m,\u001B[0m \u001B[0mcdf_\u001B[0m \u001B[1;33m=\u001B[0m \u001B[0mecdf\u001B[0m\u001B[1;33m(\u001B[0m\u001B[0mvalues\u001B[0m\u001B[1;33m)\u001B[0m\u001B[1;33m\u001B[0m\u001B[1;33m\u001B[0m\u001B[0m\n\u001B[0;32m      8\u001B[0m         ax.plot(bin_,\n",
      "\u001B[1;31mKeyError\u001B[0m: 'seed111'"
     ]
    },
    {
     "data": {
      "image/png": "[encoded data removed]",
      "text/plain": [
       "<Figure size 1152x720 with 1 Axes>"
      ]
     },
     "metadata": {
      "needs_background": "light"
     },
     "output_type": "display_data"
    }
   ],
   "source": [
    "fig, ax = plt.subplots(figsize=(16,10))\n",
    "\n",
    "for model_type, models in sub_metrics[\"NSE\"].items():\n",
    "    if model_type == \"ealstm_NSE\":\n",
    "        # single seed\n",
    "        values = list(models['seed111'].values())\n",
    "        bin_, cdf_ = ecdf(values)\n",
    "        ax.plot(bin_,\n",
    "                cdf_,\n",
    "                label=f\"{model_draw_style[model_type]['label']} seed111\",\n",
    "                color=model_draw_style[model_type][\"single_color\"], \n",
    "                marker=model_draw_style[model_type]['marker'], \n",
    "                markevery=20, \n",
    "                linestyle=model_draw_style[model_type]['linestyle'])\n",
    "        \n",
    "        # ensemble seed\n",
    "        values = list(models['ensemble'].values())\n",
    "        bin_, cdf_ = ecdf(values)\n",
    "        ax.plot(bin_,\n",
    "                cdf_, \n",
    "                label=f\"{model_draw_style[model_type]['label']} ensemble (n=8)\", \n",
    "                color=model_draw_style[model_type]['ensemble_color'], \n",
    "                linestyle=model_draw_style[model_type]['linestyle'])\n",
    "    elif model_type == \"benchmarks\":\n",
    "        for benchmark_model, benchmark_result in models.items():\n",
    "            if not \"conus\" in benchmark_model:\n",
    "                values = list(benchmark_result.values())\n",
    "                bin_, cdf_ = ecdf(values)\n",
    "                ax.plot(bin_,\n",
    "                        cdf_, \n",
    "                        label=model_draw_style[benchmark_model]['label'], \n",
    "                        color=model_draw_style[benchmark_model]['color'], \n",
    "                        linestyle=model_draw_style[benchmark_model]['linestyle'])\n",
    "    \n",
    "ax.set_xlim(0, 1)\n",
    "ax.grid(True)\n",
    "ax.legend(loc='upper left')\n",
    "ax.set_xlabel('NSE', fontsize=14)\n",
    "ax.set_ylabel('cumulative density', fontsize=14)\n",
    "ax.set_title(\"Benchmarking against basin-wise calibrated hydrological models\", fontsize=18)"
   ]
  },
  {
   "cell_type": "code",
   "execution_count": 16,
   "metadata": {},
   "outputs": [
    {
     "ename": "KeyError",
     "evalue": "'SAC_SMA'",
     "output_type": "error",
     "traceback": [
      "\u001B[1;31m---------------------------------------------------------------------------\u001B[0m",
      "\u001B[1;31mKeyError\u001B[0m                                  Traceback (most recent call last)",
      "\u001B[1;32m<ipython-input-16-c050ed66698b>\u001B[0m in \u001B[0;36m<module>\u001B[1;34m\u001B[0m\n\u001B[0;32m     38\u001B[0m     \u001B[0mmodel_data\u001B[0m \u001B[1;33m=\u001B[0m \u001B[1;33m{\u001B[0m\u001B[1;34m\"model\"\u001B[0m\u001B[1;33m:\u001B[0m \u001B[0mmodel_draw_style\u001B[0m\u001B[1;33m[\u001B[0m\u001B[0mmodel\u001B[0m\u001B[1;33m]\u001B[0m\u001B[1;33m[\u001B[0m\u001B[1;34m\"label\"\u001B[0m\u001B[1;33m]\u001B[0m\u001B[1;33m,\u001B[0m \u001B[1;34m\"ensemble\"\u001B[0m\u001B[1;33m:\u001B[0m \u001B[1;32mFalse\u001B[0m\u001B[1;33m}\u001B[0m\u001B[1;33m\u001B[0m\u001B[1;33m\u001B[0m\u001B[0m\n\u001B[0;32m     39\u001B[0m     \u001B[1;32mfor\u001B[0m \u001B[0mmetric\u001B[0m\u001B[1;33m,\u001B[0m \u001B[0mmetric_data\u001B[0m \u001B[1;32min\u001B[0m \u001B[0msub_metrics\u001B[0m\u001B[1;33m.\u001B[0m\u001B[0mitems\u001B[0m\u001B[1;33m(\u001B[0m\u001B[1;33m)\u001B[0m\u001B[1;33m:\u001B[0m\u001B[1;33m\u001B[0m\u001B[1;33m\u001B[0m\u001B[0m\n\u001B[1;32m---> 40\u001B[1;33m         \u001B[0mvalues\u001B[0m \u001B[1;33m=\u001B[0m \u001B[0mlist\u001B[0m\u001B[1;33m(\u001B[0m\u001B[0mmetric_data\u001B[0m\u001B[1;33m[\u001B[0m\u001B[1;34m\"benchmarks\"\u001B[0m\u001B[1;33m]\u001B[0m\u001B[1;33m[\u001B[0m\u001B[0mmodel\u001B[0m\u001B[1;33m]\u001B[0m\u001B[1;33m.\u001B[0m\u001B[0mvalues\u001B[0m\u001B[1;33m(\u001B[0m\u001B[1;33m)\u001B[0m\u001B[1;33m)\u001B[0m\u001B[1;33m\u001B[0m\u001B[1;33m\u001B[0m\u001B[0m\n\u001B[0m\u001B[0;32m     41\u001B[0m         \u001B[0mmodel_data\u001B[0m\u001B[1;33m[\u001B[0m\u001B[1;34mf\"{metric} median\"\u001B[0m\u001B[1;33m]\u001B[0m \u001B[1;33m=\u001B[0m \u001B[0mnp\u001B[0m\u001B[1;33m.\u001B[0m\u001B[0mmedian\u001B[0m\u001B[1;33m(\u001B[0m\u001B[0mvalues\u001B[0m\u001B[1;33m)\u001B[0m\u001B[1;33m\u001B[0m\u001B[1;33m\u001B[0m\u001B[0m\n\u001B[0;32m     42\u001B[0m         \u001B[1;32mif\u001B[0m \u001B[0mmetric\u001B[0m \u001B[1;33m==\u001B[0m \u001B[1;34m\"NSE\"\u001B[0m\u001B[1;33m:\u001B[0m\u001B[1;33m\u001B[0m\u001B[1;33m\u001B[0m\u001B[0m\n",
      "\u001B[1;31mKeyError\u001B[0m: 'SAC_SMA'"
     ]
    }
   ],
   "source": [
    "data = []\n",
    "single_model = {'model': 'EA-LSTM with NSE', 'ensemble': False}\n",
    "ensemble_mean = {'model': 'EA-LSTM with NSE', 'ensemble': True}\n",
    "# get EA-LSTM stats for all metrics\n",
    "for metric, metric_data in sub_metrics.items():\n",
    "    \n",
    "    # average over single models\n",
    "    seeds = [k for k in metric_data[\"ealstm_NSE\"].keys() if \"seed\" in k]\n",
    "    seed_vals = defaultdict(list)\n",
    "    for seed in seeds:\n",
    "        values = list(metric_data[\"ealstm_NSE\"][seed].values())\n",
    "        seed_vals[f\"{metric} median\"].append(np.median(values))\n",
    "        if metric == \"NSE\":\n",
    "            seed_vals[f\"{metric} mean\"].append(np.mean(values))\n",
    "            seed_vals[\"failures\"].append(len([v for v in values if v <= 0]))\n",
    "        single_model[f\"{metric} median\"] = np.mean(seed_vals[f\"{metric} median\"])\n",
    "        single_model[f\"{metric} median std\"] = np.std(seed_vals[f\"{metric} median\"])\n",
    "        if metric == \"NSE\":\n",
    "            single_model[f\"{metric} mean\"] = np.mean(seed_vals[f\"{metric} mean\"])\n",
    "            single_model[f\"{metric} mean std\"] = np.std(seed_vals[f\"{metric} mean\"])\n",
    "            single_model[f\"failures\"] = np.mean(seed_vals[\"failures\"])\n",
    "            single_model[f\"failures std\"] = np.std(seed_vals[\"failures\"])\n",
    "            \n",
    "    # ensemble mean\n",
    "    values = list(metric_data[\"ealstm_NSE\"][\"ensemble\"].values())\n",
    "    ensemble_mean[f\"{metric} median\"] = np.median(values)\n",
    "    if metric == \"NSE\":\n",
    "        ensemble_mean[\"NSE mean\"] = np.mean(values)\n",
    "        ensemble_mean[\"failures\"] = len([v for v in values if v <= 0])\n",
    "        \n",
    "data.append(single_model)\n",
    "data.append(ensemble_mean)\n",
    "        \n",
    "# benchmark models:\n",
    "for model in model_draw_style.keys():\n",
    "    if \"lstm\" in model:\n",
    "        continue\n",
    "    model_data = {\"model\": model_draw_style[model][\"label\"], \"ensemble\": False}\n",
    "    for metric, metric_data in sub_metrics.items():\n",
    "        values = list(metric_data[\"benchmarks\"][model].values())\n",
    "        model_data[f\"{metric} median\"] = np.median(values)\n",
    "        if metric == \"NSE\":\n",
    "            model_data[\"NSE mean\"] = np.mean(values)\n",
    "            model_data[\"failures\"] = len([v for v in values if v <= 0])\n",
    "            \n",
    "    data.append(model_data)\n",
    "        \n",
    "df = pd.DataFrame(data)\n",
    "df = df.set_index(keys=[\"model\", \"ensemble\"])\n",
    "df"
   ]
  },
  {
   "cell_type": "code",
   "execution_count": 17,
   "metadata": {},
   "outputs": [
    {
     "data": {
      "text/plain": [
       "'<table border=\"1\" class=\"dataframe\">\\n  <thead>\\n    <tr style=\"text-align: right;\">\\n      <th></th>\\n      <th></th>\\n      <th>mean</th>\\n      <th>std_mean</th>\\n      <th>median</th>\\n      <th>std_median</th>\\n      <th>failures</th>\\n      <th>std_failures</th>\\n    </tr>\\n    <tr>\\n      <th>model_type</th>\\n      <th>ensemble</th>\\n      <th></th>\\n      <th></th>\\n      <th></th>\\n      <th></th>\\n      <th></th>\\n      <th></th>\\n    </tr>\\n  </thead>\\n  <tbody>\\n    <tr>\\n      <th rowspan=\"2\" valign=\"top\">EA-LSTM MSE</th>\\n      <th>False</th>\\n      <td>-8.570622</td>\\n      <td>0.0</td>\\n      <td>0.442068</td>\\n      <td>0.0</td>\\n      <td>51.0</td>\\n      <td>0.0</td>\\n    </tr>\\n    <tr>\\n      <th>True</th>\\n      <td>-8.570622</td>\\n      <td>NaN</td>\\n      <td>0.442068</td>\\n      <td>NaN</td>\\n      <td>51.0</td>\\n      <td>NaN</td>\\n    </tr>\\n    <tr>\\n      <th rowspan=\"2\" valign=\"top\">EA-LSTM NSE</th>\\n      <th>False</th>\\n      <td>0.587154</td>\\n      <td>0.0</td>\\n      <td>0.648510</td>\\n      <td>0.0</td>\\n      <td>9.0</td>\\n      <td>0.0</td>\\n    </tr>\\n    <tr>\\n      <th>True</th>\\n      <td>0.587154</td>\\n      <td>NaN</td>\\n      <td>0.648510</td>\\n      <td>NaN</td>\\n      <td>9.0</td>\\n      <td>NaN</td>\\n    </tr>\\n    <tr>\\n      <th rowspan=\"2\" valign=\"top\">LSTM MSE</th>\\n      <th>False</th>\\n      <td>-4.884464</td>\\n      <td>0.0</td>\\n      <td>0.513484</td>\\n      <td>0.0</td>\\n      <td>39.0</td>\\n      <td>0.0</td>\\n    </tr>\\n    <tr>\\n      <th>True</th>\\n      <td>-4.884464</td>\\n      <td>NaN</td>\\n      <td>0.513484</td>\\n      <td>NaN</td>\\n      <td>39.0</td>\\n      <td>NaN</td>\\n    </tr>\\n    <tr>\\n      <th rowspan=\"2\" valign=\"top\">LSTM NSE</th>\\n      <th>False</th>\\n      <td>0.644594</td>\\n      <td>0.0</td>\\n      <td>0.677744</td>\\n      <td>0.0</td>\\n      <td>3.0</td>\\n      <td>0.0</td>\\n    </tr>\\n    <tr>\\n      <th>True</th>\\n      <td>0.644594</td>\\n      <td>NaN</td>\\n      <td>0.677744</td>\\n      <td>NaN</td>\\n      <td>3.0</td>\\n      <td>NaN</td>\\n    </tr>\\n    <tr>\\n      <th rowspan=\"2\" valign=\"top\">LSTM (no static inputs) MSE</th>\\n      <th>False</th>\\n      <td>-1886.880711</td>\\n      <td>0.0</td>\\n      <td>-16.338901</td>\\n      <td>0.0</td>\\n      <td>151.0</td>\\n      <td>0.0</td>\\n    </tr>\\n    <tr>\\n      <th>True</th>\\n      <td>-1886.880711</td>\\n      <td>NaN</td>\\n      <td>-16.338901</td>\\n      <td>NaN</td>\\n      <td>151.0</td>\\n      <td>NaN</td>\\n    </tr>\\n    <tr>\\n      <th rowspan=\"2\" valign=\"top\">LSTM (no static inputs) NSE</th>\\n      <th>False</th>\\n      <td>-2.318837</td>\\n      <td>0.0</td>\\n      <td>-0.210805</td>\\n      <td>0.0</td>\\n      <td>141.0</td>\\n      <td>0.0</td>\\n    </tr>\\n    <tr>\\n      <th>True</th>\\n      <td>-2.318837</td>\\n      <td>NaN</td>\\n      <td>-0.210805</td>\\n      <td>NaN</td>\\n      <td>141.0</td>\\n      <td>NaN</td>\\n    </tr>\\n  </tbody>\\n</table>'"
      ]
     },
     "execution_count": 17,
     "metadata": {},
     "output_type": "execute_result"
    }
   ],
   "source": [
    "df.to_html()"
   ]
  },
  {
   "cell_type": "code",
   "execution_count": 16,
   "metadata": {},
   "outputs": [
    {
     "name": "stdout",
     "output_type": "stream",
     "text": [
      "\n",
      "\n",
      "#### NSE\n",
      "Comparison between EA-LSTM (optimized with NSE) and mHm (basin-wise calibrated)\n",
      "For single models: 4.29e-06\n",
      "For ensemble mean 1.01e-13\n",
      "Effect size: Single model d=0.256, ensemble mean d=0.445\n",
      "\n",
      "Comparison between EA-LSTM (optimized with NSE) and HBV (upper limit)\n",
      "For single models: 1.90e-04\n",
      "For ensemble mean 6.21e-11\n",
      "Effect size: Single model d=0.224, ensemble mean d=0.404\n",
      "\n",
      "\n",
      "#### alpha_nse\n",
      "Comparison between EA-LSTM (optimized with NSE) and mHm (basin-wise calibrated)\n",
      "For single models: 1.84e-01\n",
      "For ensemble mean 7.82e-01\n",
      "Effect size: Single model d=0.049, ensemble mean d=0.047\n",
      "\n",
      "Comparison between EA-LSTM (optimized with NSE) and HBV (upper limit)\n",
      "For single models: 3.88e-02\n",
      "For ensemble mean 5.33e-01\n",
      "Effect size: Single model d=0.106, ensemble mean d=0.016\n",
      "\n",
      "\n",
      "#### beta_nse\n",
      "Comparison between EA-LSTM (optimized with NSE) and mHm (basin-wise calibrated)\n",
      "For single models: 3.24e-03\n",
      "For ensemble mean 3.24e-03\n",
      "Effect size: Single model d=0.189, ensemble mean d=0.189\n",
      "\n",
      "Comparison between EA-LSTM (optimized with NSE) and HBV (upper limit)\n",
      "For single models: 3.52e-04\n",
      "For ensemble mean 3.52e-04\n",
      "Effect size: Single model d=0.239, ensemble mean d=0.239\n",
      "\n",
      "\n",
      "#### FHV\n",
      "Comparison between EA-LSTM (optimized with NSE) and mHm (basin-wise calibrated)\n",
      "For single models: 4.16e-01\n",
      "For ensemble mean 4.81e-01\n",
      "Effect size: Single model d=0.004, ensemble mean d=0.086\n",
      "\n",
      "Comparison between EA-LSTM (optimized with NSE) and HBV (upper limit)\n",
      "For single models: 9.18e-01\n",
      "For ensemble mean 1.22e-01\n",
      "Effect size: Single model d=0.038, ensemble mean d=0.117\n",
      "\n",
      "\n",
      "#### FLV\n",
      "Comparison between EA-LSTM (optimized with NSE) and mHm (basin-wise calibrated)\n",
      "For single models: 7.31e-09\n",
      "For ensemble mean 1.10e-07\n",
      "Effect size: Single model d=0.143, ensemble mean d=0.050\n",
      "\n",
      "Comparison between EA-LSTM (optimized with NSE) and HBV (upper limit)\n",
      "For single models: 5.10e-11\n",
      "For ensemble mean 2.90e-06\n",
      "Effect size: Single model d=0.140, ensemble mean d=0.046\n",
      "\n",
      "\n",
      "#### FMS\n",
      "Comparison between EA-LSTM (optimized with NSE) and mHm (basin-wise calibrated)\n",
      "For single models: 9.25e-02\n",
      "For ensemble mean 1.02e-04\n",
      "Effect size: Single model d=0.014, ensemble mean d=0.011\n",
      "\n",
      "Comparison between EA-LSTM (optimized with NSE) and HBV (upper limit)\n",
      "For single models: 2.69e-09\n",
      "For ensemble mean 4.64e-05\n",
      "Effect size: Single model d=0.003, ensemble mean d=0.000\n"
     ]
    }
   ],
   "source": [
    "for metric in sub_metrics.keys():\n",
    "    print(f\"\\n\\n#### {metric}\")\n",
    "    print(f\"Comparison between EA-LSTM (optimized with NSE) and mHm (basin-wise calibrated)\")\n",
    "    ealstm_perf = get_mean_basin_performance(sub_metrics[metric], model=\"ealstm_NSE\")\n",
    "    _, p_val_single = wilcoxon(list(ealstm_perf.values()),\n",
    "                               list(sub_metrics[metric][\"benchmarks\"][\"mHm_basin\"].values()))\n",
    "    _, p_val_ensemble = wilcoxon(list(sub_metrics[metric][\"benchmarks\"][\"mHm_basin\"].values()), \n",
    "                                 list(sub_metrics[metric][\"ealstm_NSE\"][\"ensemble\"].values()))\n",
    "    print(f\"For single models: {p_val_single:.2e}\")\n",
    "    print(f\"For ensemble mean {p_val_ensemble:.2e}\")\n",
    "    d_single = get_cohens_d(list(ealstm_perf.values()),\n",
    "                            list(sub_metrics[metric][\"benchmarks\"][\"mHm_basin\"].values()))\n",
    "    d_ensemble = get_cohens_d(list(sub_metrics[metric][\"benchmarks\"][\"mHm_basin\"].values()), \n",
    "                              list(sub_metrics[metric][\"ealstm_NSE\"][\"ensemble\"].values()))\n",
    "    print(f\"Effect size: Single model d={d_single:.3f}, ensemble mean d={d_ensemble:.3f}\")\n",
    "\n",
    "\n",
    "    print(f\"\\nComparison between EA-LSTM (optimized with NSE) and HBV (upper limit)\")\n",
    "    _, p_val_single = wilcoxon(list(ealstm_perf.values()),\n",
    "                               list(sub_metrics[metric][\"benchmarks\"][\"HBV_ub\"].values()))\n",
    "    _, p_val_ensemble = wilcoxon(list(sub_metrics[metric][\"benchmarks\"][\"HBV_ub\"].values()), \n",
    "                                 list(sub_metrics[metric][\"ealstm_NSE\"][\"ensemble\"].values()))\n",
    "    print(f\"For single models: {p_val_single:.2e}\")\n",
    "    print(f\"For ensemble mean {p_val_ensemble:.2e}\")\n",
    "    d_single = get_cohens_d(list(ealstm_perf.values()),\n",
    "                            list(sub_metrics[metric][\"benchmarks\"][\"HBV_ub\"].values()))\n",
    "    d_ensemble = get_cohens_d(list(sub_metrics[metric][\"benchmarks\"][\"HBV_ub\"].values()), \n",
    "                              list(sub_metrics[metric][\"ealstm_NSE\"][\"ensemble\"].values()))\n",
    "    print(f\"Effect size: Single model d={d_single:.3f}, ensemble mean d={d_ensemble:.3f}\")"
   ]
  },
  {
   "cell_type": "code",
   "execution_count": null,
   "metadata": {},
   "outputs": [],
   "source": []
  }
 ],
 "metadata": {
  "kernelspec": {
   "display_name": "Python 3",
   "language": "python",
   "name": "python3"
  },
  "language_info": {
   "codemirror_mode": {
    "name": "ipython",
    "version": 3
   },
   "file_extension": ".py",
   "mimetype": "text/x-python",
   "name": "python",
   "nbconvert_exporter": "python",
   "pygments_lexer": "ipython3",
   "version": "3.7.10"
  }
 },
 "nbformat": 4,
 "nbformat_minor": 4
}